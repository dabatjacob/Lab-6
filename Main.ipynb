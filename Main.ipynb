{
 "cells": [
  {
   "cell_type": "markdown",
   "id": "f4cb2c58-c9e7-4937-a1f8-18164d5844ee",
   "metadata": {},
   "source": [
    "# Lab 6 Mini Group Project\n",
    "This program asks for your name and a number, then does something with it."
   ]
  },
  {
   "cell_type": "code",
   "execution_count": null,
   "id": "e72f6bb5-e470-49bb-a622-27ee057e54fe",
   "metadata": {},
   "outputs": [],
   "source": [
    "name = input(\"What is your name? \")\n",
    "age = input(\"How old are you? \")\n",
    "\n",
    "print(\"your name is\" + name, \"and your age is\" + age)"
   ]
  },
  {
   "metadata": {},
   "cell_type": "code",
   "outputs": [],
   "execution_count": null,
   "source": "",
   "id": "39c781e12b6aae90"
  }
 ],
 "metadata": {
  "kernelspec": {
   "display_name": "Python 3 (ipykernel)",
   "language": "python",
   "name": "python3"
  },
  "language_info": {
   "codemirror_mode": {
    "name": "ipython",
    "version": 3
   },
   "file_extension": ".py",
   "mimetype": "text/x-python",
   "name": "python",
   "nbconvert_exporter": "python",
   "pygments_lexer": "ipython3",
   "version": "3.11.13"
  }
 },
 "nbformat": 4,
 "nbformat_minor": 5
}
